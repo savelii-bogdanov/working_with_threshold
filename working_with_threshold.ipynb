{
 "cells": [
  {
   "cell_type": "markdown",
   "id": "6eb67fea",
   "metadata": {},
   "source": [
    "## Отческа в задаче классификации"
   ]
  },
  {
   "cell_type": "markdown",
   "id": "fdaf7a08",
   "metadata": {},
   "source": [
    "### Рассмотрим один из часто забываемых гипермараметров в задачах классификации - работу с отсечкой (thresholding). \n",
    "Отсечка - это пороговое значение, которое определяет, какой класс будет выбран для каждого объекта. Несмотря на то, что отсечка может оказать значительное влияние на качество модели, она часто игнорируется в процессе обучения и оценки модели. Рассмотрим, как работать с отсечкой в задачах бинарной классификации, а также как выбирать оптимальное значение отсечки для достижения наилучшего качества модели"
   ]
  },
  {
   "cell_type": "code",
   "execution_count": 1,
   "id": "6e38a1a8",
   "metadata": {},
   "outputs": [],
   "source": [
    "# импортируем нужные библиотеки\n",
    "import pandas as pd\n",
    "import numpy as np\n",
    "from sklearn.ensemble import RandomForestClassifier\n",
    "from sklearn.model_selection import (\n",
    "    GridSearchCV,\n",
    "    cross_val_predict,\n",
    "    cross_val_score)\n",
    "from sklearn.metrics import (\n",
    "    roc_auc_score,\n",
    "    f1_score,\n",
    "    classification_report,\n",
    "    precision_score,\n",
    "    recall_score,\n",
    "    confusion_matrix)\n",
    "\n",
    "import warnings\n",
    "warnings.filterwarnings(\"ignore\")"
   ]
  },
  {
   "cell_type": "markdown",
   "id": "2ff3d18d",
   "metadata": {},
   "source": [
    "У нас есть тренировочные и тестовые данные о погода, а также значения целевого признака для тестовых данных (будет ли завтра дождь)"
   ]
  },
  {
   "cell_type": "code",
   "execution_count": 2,
   "id": "ccbea2db",
   "metadata": {},
   "outputs": [
    {
     "data": {
      "text/html": [
       "<div>\n",
       "<style scoped>\n",
       "    .dataframe tbody tr th:only-of-type {\n",
       "        vertical-align: middle;\n",
       "    }\n",
       "\n",
       "    .dataframe tbody tr th {\n",
       "        vertical-align: top;\n",
       "    }\n",
       "\n",
       "    .dataframe thead th {\n",
       "        text-align: right;\n",
       "    }\n",
       "</style>\n",
       "<table border=\"1\" class=\"dataframe\">\n",
       "  <thead>\n",
       "    <tr style=\"text-align: right;\">\n",
       "      <th></th>\n",
       "      <th>MinTemp</th>\n",
       "      <th>MaxTemp</th>\n",
       "      <th>Rainfall</th>\n",
       "      <th>Evaporation</th>\n",
       "      <th>Sunshine</th>\n",
       "      <th>WindGustSpeed</th>\n",
       "      <th>WindSpeed9am</th>\n",
       "      <th>WindSpeed3pm</th>\n",
       "      <th>Humidity9am</th>\n",
       "      <th>Humidity3pm</th>\n",
       "      <th>Pressure9am</th>\n",
       "      <th>Pressure3pm</th>\n",
       "      <th>Cloud9am</th>\n",
       "      <th>Cloud3pm</th>\n",
       "      <th>Temp9am</th>\n",
       "      <th>Temp3pm</th>\n",
       "      <th>RainTomorrow</th>\n",
       "    </tr>\n",
       "  </thead>\n",
       "  <tbody>\n",
       "    <tr>\n",
       "      <th>0</th>\n",
       "      <td>12.3</td>\n",
       "      <td>25.7</td>\n",
       "      <td>10.8</td>\n",
       "      <td>9.8</td>\n",
       "      <td>12.6</td>\n",
       "      <td>22.0</td>\n",
       "      <td>6.0</td>\n",
       "      <td>11.0</td>\n",
       "      <td>38.0</td>\n",
       "      <td>34.0</td>\n",
       "      <td>1018.4</td>\n",
       "      <td>1014.5</td>\n",
       "      <td>1.0</td>\n",
       "      <td>1.0</td>\n",
       "      <td>21.0</td>\n",
       "      <td>24.4</td>\n",
       "      <td>0</td>\n",
       "    </tr>\n",
       "    <tr>\n",
       "      <th>1</th>\n",
       "      <td>11.5</td>\n",
       "      <td>21.5</td>\n",
       "      <td>0.0</td>\n",
       "      <td>NaN</td>\n",
       "      <td>NaN</td>\n",
       "      <td>41.0</td>\n",
       "      <td>15.0</td>\n",
       "      <td>19.0</td>\n",
       "      <td>71.0</td>\n",
       "      <td>56.0</td>\n",
       "      <td>1018.5</td>\n",
       "      <td>1017.0</td>\n",
       "      <td>NaN</td>\n",
       "      <td>NaN</td>\n",
       "      <td>16.0</td>\n",
       "      <td>18.4</td>\n",
       "      <td>0</td>\n",
       "    </tr>\n",
       "    <tr>\n",
       "      <th>2</th>\n",
       "      <td>1.6</td>\n",
       "      <td>9.0</td>\n",
       "      <td>0.8</td>\n",
       "      <td>NaN</td>\n",
       "      <td>NaN</td>\n",
       "      <td>31.0</td>\n",
       "      <td>17.0</td>\n",
       "      <td>20.0</td>\n",
       "      <td>100.0</td>\n",
       "      <td>100.0</td>\n",
       "      <td>1024.4</td>\n",
       "      <td>1024.9</td>\n",
       "      <td>7.0</td>\n",
       "      <td>7.0</td>\n",
       "      <td>5.0</td>\n",
       "      <td>8.3</td>\n",
       "      <td>0</td>\n",
       "    </tr>\n",
       "    <tr>\n",
       "      <th>3</th>\n",
       "      <td>7.6</td>\n",
       "      <td>14.2</td>\n",
       "      <td>4.6</td>\n",
       "      <td>NaN</td>\n",
       "      <td>NaN</td>\n",
       "      <td>37.0</td>\n",
       "      <td>20.0</td>\n",
       "      <td>20.0</td>\n",
       "      <td>85.0</td>\n",
       "      <td>68.0</td>\n",
       "      <td>1017.9</td>\n",
       "      <td>1017.9</td>\n",
       "      <td>8.0</td>\n",
       "      <td>8.0</td>\n",
       "      <td>8.7</td>\n",
       "      <td>12.8</td>\n",
       "      <td>0</td>\n",
       "    </tr>\n",
       "    <tr>\n",
       "      <th>4</th>\n",
       "      <td>15.4</td>\n",
       "      <td>24.7</td>\n",
       "      <td>0.0</td>\n",
       "      <td>NaN</td>\n",
       "      <td>NaN</td>\n",
       "      <td>37.0</td>\n",
       "      <td>15.0</td>\n",
       "      <td>19.0</td>\n",
       "      <td>60.0</td>\n",
       "      <td>45.0</td>\n",
       "      <td>1010.3</td>\n",
       "      <td>1009.6</td>\n",
       "      <td>NaN</td>\n",
       "      <td>NaN</td>\n",
       "      <td>21.6</td>\n",
       "      <td>23.8</td>\n",
       "      <td>0</td>\n",
       "    </tr>\n",
       "    <tr>\n",
       "      <th>...</th>\n",
       "      <td>...</td>\n",
       "      <td>...</td>\n",
       "      <td>...</td>\n",
       "      <td>...</td>\n",
       "      <td>...</td>\n",
       "      <td>...</td>\n",
       "      <td>...</td>\n",
       "      <td>...</td>\n",
       "      <td>...</td>\n",
       "      <td>...</td>\n",
       "      <td>...</td>\n",
       "      <td>...</td>\n",
       "      <td>...</td>\n",
       "      <td>...</td>\n",
       "      <td>...</td>\n",
       "      <td>...</td>\n",
       "      <td>...</td>\n",
       "    </tr>\n",
       "    <tr>\n",
       "      <th>52752</th>\n",
       "      <td>19.7</td>\n",
       "      <td>25.7</td>\n",
       "      <td>29.6</td>\n",
       "      <td>NaN</td>\n",
       "      <td>NaN</td>\n",
       "      <td>41.0</td>\n",
       "      <td>28.0</td>\n",
       "      <td>6.0</td>\n",
       "      <td>95.0</td>\n",
       "      <td>70.0</td>\n",
       "      <td>1016.4</td>\n",
       "      <td>1016.2</td>\n",
       "      <td>8.0</td>\n",
       "      <td>5.0</td>\n",
       "      <td>20.0</td>\n",
       "      <td>24.3</td>\n",
       "      <td>1</td>\n",
       "    </tr>\n",
       "    <tr>\n",
       "      <th>52753</th>\n",
       "      <td>11.2</td>\n",
       "      <td>26.5</td>\n",
       "      <td>0.0</td>\n",
       "      <td>4.0</td>\n",
       "      <td>8.9</td>\n",
       "      <td>33.0</td>\n",
       "      <td>13.0</td>\n",
       "      <td>20.0</td>\n",
       "      <td>45.0</td>\n",
       "      <td>23.0</td>\n",
       "      <td>1028.5</td>\n",
       "      <td>1024.4</td>\n",
       "      <td>6.0</td>\n",
       "      <td>4.0</td>\n",
       "      <td>21.3</td>\n",
       "      <td>25.9</td>\n",
       "      <td>0</td>\n",
       "    </tr>\n",
       "    <tr>\n",
       "      <th>52754</th>\n",
       "      <td>8.7</td>\n",
       "      <td>28.0</td>\n",
       "      <td>0.0</td>\n",
       "      <td>5.6</td>\n",
       "      <td>NaN</td>\n",
       "      <td>33.0</td>\n",
       "      <td>17.0</td>\n",
       "      <td>9.0</td>\n",
       "      <td>48.0</td>\n",
       "      <td>NaN</td>\n",
       "      <td>1017.9</td>\n",
       "      <td>1013.3</td>\n",
       "      <td>0.0</td>\n",
       "      <td>NaN</td>\n",
       "      <td>17.0</td>\n",
       "      <td>NaN</td>\n",
       "      <td>0</td>\n",
       "    </tr>\n",
       "    <tr>\n",
       "      <th>52755</th>\n",
       "      <td>1.0</td>\n",
       "      <td>16.7</td>\n",
       "      <td>0.2</td>\n",
       "      <td>NaN</td>\n",
       "      <td>NaN</td>\n",
       "      <td>44.0</td>\n",
       "      <td>0.0</td>\n",
       "      <td>17.0</td>\n",
       "      <td>100.0</td>\n",
       "      <td>54.0</td>\n",
       "      <td>1024.7</td>\n",
       "      <td>1020.0</td>\n",
       "      <td>8.0</td>\n",
       "      <td>NaN</td>\n",
       "      <td>4.3</td>\n",
       "      <td>16.4</td>\n",
       "      <td>0</td>\n",
       "    </tr>\n",
       "    <tr>\n",
       "      <th>52756</th>\n",
       "      <td>13.3</td>\n",
       "      <td>22.7</td>\n",
       "      <td>1.0</td>\n",
       "      <td>NaN</td>\n",
       "      <td>NaN</td>\n",
       "      <td>57.0</td>\n",
       "      <td>24.0</td>\n",
       "      <td>28.0</td>\n",
       "      <td>61.0</td>\n",
       "      <td>38.0</td>\n",
       "      <td>1013.0</td>\n",
       "      <td>1011.8</td>\n",
       "      <td>NaN</td>\n",
       "      <td>3.0</td>\n",
       "      <td>17.2</td>\n",
       "      <td>20.9</td>\n",
       "      <td>0</td>\n",
       "    </tr>\n",
       "  </tbody>\n",
       "</table>\n",
       "<p>52757 rows × 17 columns</p>\n",
       "</div>"
      ],
      "text/plain": [
       "       MinTemp  MaxTemp  Rainfall  Evaporation  Sunshine  WindGustSpeed  \\\n",
       "0         12.3     25.7      10.8          9.8      12.6           22.0   \n",
       "1         11.5     21.5       0.0          NaN       NaN           41.0   \n",
       "2          1.6      9.0       0.8          NaN       NaN           31.0   \n",
       "3          7.6     14.2       4.6          NaN       NaN           37.0   \n",
       "4         15.4     24.7       0.0          NaN       NaN           37.0   \n",
       "...        ...      ...       ...          ...       ...            ...   \n",
       "52752     19.7     25.7      29.6          NaN       NaN           41.0   \n",
       "52753     11.2     26.5       0.0          4.0       8.9           33.0   \n",
       "52754      8.7     28.0       0.0          5.6       NaN           33.0   \n",
       "52755      1.0     16.7       0.2          NaN       NaN           44.0   \n",
       "52756     13.3     22.7       1.0          NaN       NaN           57.0   \n",
       "\n",
       "       WindSpeed9am  WindSpeed3pm  Humidity9am  Humidity3pm  Pressure9am  \\\n",
       "0               6.0          11.0         38.0         34.0       1018.4   \n",
       "1              15.0          19.0         71.0         56.0       1018.5   \n",
       "2              17.0          20.0        100.0        100.0       1024.4   \n",
       "3              20.0          20.0         85.0         68.0       1017.9   \n",
       "4              15.0          19.0         60.0         45.0       1010.3   \n",
       "...             ...           ...          ...          ...          ...   \n",
       "52752          28.0           6.0         95.0         70.0       1016.4   \n",
       "52753          13.0          20.0         45.0         23.0       1028.5   \n",
       "52754          17.0           9.0         48.0          NaN       1017.9   \n",
       "52755           0.0          17.0        100.0         54.0       1024.7   \n",
       "52756          24.0          28.0         61.0         38.0       1013.0   \n",
       "\n",
       "       Pressure3pm  Cloud9am  Cloud3pm  Temp9am  Temp3pm  RainTomorrow  \n",
       "0           1014.5       1.0       1.0     21.0     24.4             0  \n",
       "1           1017.0       NaN       NaN     16.0     18.4             0  \n",
       "2           1024.9       7.0       7.0      5.0      8.3             0  \n",
       "3           1017.9       8.0       8.0      8.7     12.8             0  \n",
       "4           1009.6       NaN       NaN     21.6     23.8             0  \n",
       "...            ...       ...       ...      ...      ...           ...  \n",
       "52752       1016.2       8.0       5.0     20.0     24.3             1  \n",
       "52753       1024.4       6.0       4.0     21.3     25.9             0  \n",
       "52754       1013.3       0.0       NaN     17.0      NaN             0  \n",
       "52755       1020.0       8.0       NaN      4.3     16.4             0  \n",
       "52756       1011.8       NaN       3.0     17.2     20.9             0  \n",
       "\n",
       "[52757 rows x 17 columns]"
      ]
     },
     "execution_count": 2,
     "metadata": {},
     "output_type": "execute_result"
    }
   ],
   "source": [
    "weather = pd.read_csv('train_dataset.csv')\n",
    "X_test = pd.read_csv('test_dataset.csv')\n",
    "y_test = pd.read_csv('answers.csv').drop('id', 1)\n",
    "\n",
    "weather"
   ]
  },
  {
   "cell_type": "markdown",
   "id": "7474feff",
   "metadata": {},
   "source": [
    "Заменим пропущенные значения медианой, но только не в целевом признаке"
   ]
  },
  {
   "cell_type": "code",
   "execution_count": 3,
   "id": "65b4ecf2",
   "metadata": {},
   "outputs": [],
   "source": [
    "medians_dict = {}\n",
    "\n",
    "for col in weather.columns.drop('RainTomorrow'):\n",
    "    medians_dict[col] = weather[col].median()\n",
    "\n",
    "for col in weather.columns.drop('RainTomorrow'):\n",
    "    weather[col] = weather[col].fillna(medians_dict[col])\n",
    "    \n",
    "for col in weather.columns.drop('RainTomorrow'):\n",
    "    X_test[col] = X_test[col].fillna(medians_dict[col])\n",
    "\n",
    "y_train = weather['RainTomorrow']\n",
    "X_train = weather.drop('RainTomorrow', 1)"
   ]
  },
  {
   "cell_type": "markdown",
   "id": "73002ccd",
   "metadata": {},
   "source": [
    "В итоге, получаем, что в среднем вероятность дождя составляет 21%"
   ]
  },
  {
   "cell_type": "code",
   "execution_count": 4,
   "id": "b312d726",
   "metadata": {},
   "outputs": [
    {
     "data": {
      "text/plain": [
       "0.21045548458024527"
      ]
     },
     "execution_count": 4,
     "metadata": {},
     "output_type": "execute_result"
    }
   ],
   "source": [
    "weather['RainTomorrow'].mean()"
   ]
  },
  {
   "cell_type": "markdown",
   "id": "80775697",
   "metadata": {},
   "source": [
    "Теперь проведем кросс-валидацию и найдем лучшие гиперпараметры модели случайного леса, будем ее тренировать под метрику ROC-AUC"
   ]
  },
  {
   "cell_type": "code",
   "execution_count": 5,
   "id": "9b00134e",
   "metadata": {},
   "outputs": [],
   "source": [
    "parameters = {\n",
    "    'n_estimators': [160, 320],\n",
    "    'max_depth': [14],\n",
    "    'max_features': [4]\n",
    "}"
   ]
  },
  {
   "cell_type": "code",
   "execution_count": 6,
   "id": "383991fe",
   "metadata": {},
   "outputs": [],
   "source": [
    "rf = RandomForestClassifier()"
   ]
  },
  {
   "cell_type": "code",
   "execution_count": 7,
   "id": "46ad481a",
   "metadata": {},
   "outputs": [],
   "source": [
    "clf = GridSearchCV(rf, parameters, scoring='roc_auc', cv=8, n_jobs=-1)"
   ]
  },
  {
   "cell_type": "code",
   "execution_count": 8,
   "id": "afac5bb6",
   "metadata": {},
   "outputs": [
    {
     "name": "stdout",
     "output_type": "stream",
     "text": [
      "Wall time: 1min 53s\n"
     ]
    },
    {
     "data": {
      "text/plain": [
       "GridSearchCV(cv=8, estimator=RandomForestClassifier(), n_jobs=-1,\n",
       "             param_grid={'max_depth': [14], 'max_features': [4],\n",
       "                         'n_estimators': [160, 320]},\n",
       "             scoring='roc_auc')"
      ]
     },
     "execution_count": 8,
     "metadata": {},
     "output_type": "execute_result"
    }
   ],
   "source": [
    "%%time\n",
    "clf.fit(X_train, y_train)"
   ]
  },
  {
   "cell_type": "code",
   "execution_count": 9,
   "id": "27e84049",
   "metadata": {},
   "outputs": [
    {
     "data": {
      "text/plain": [
       "{'max_depth': 14, 'max_features': 4, 'n_estimators': 320}"
      ]
     },
     "execution_count": 9,
     "metadata": {},
     "output_type": "execute_result"
    }
   ],
   "source": [
    "clf.best_params_"
   ]
  },
  {
   "cell_type": "markdown",
   "id": "27843af2",
   "metadata": {},
   "source": [
    "Получили, что лучшие гиперпараметры: максимальная глубина дерева - 14, кол-во деревьев - 320, кол-во признаков - 4"
   ]
  },
  {
   "cell_type": "code",
   "execution_count": 10,
   "id": "4b67c2e8",
   "metadata": {},
   "outputs": [
    {
     "data": {
      "text/plain": [
       "RandomForestClassifier(max_depth=14, max_features=4, n_estimators=320)"
      ]
     },
     "execution_count": 10,
     "metadata": {},
     "output_type": "execute_result"
    }
   ],
   "source": [
    "clf.best_estimator_"
   ]
  },
  {
   "cell_type": "code",
   "execution_count": 11,
   "id": "f1d85120",
   "metadata": {},
   "outputs": [
    {
     "data": {
      "text/plain": [
       "0.8713670426576272"
      ]
     },
     "execution_count": 11,
     "metadata": {},
     "output_type": "execute_result"
    }
   ],
   "source": [
    "clf.best_score_"
   ]
  },
  {
   "cell_type": "markdown",
   "id": "d319b99f",
   "metadata": {},
   "source": [
    "Значение ROC-AUC довольно высокое - 0.87\n",
    "\n",
    "Однако у нас присутствует дисбаланс классов (дождь не в 50% случаях, а в 21%), поэтому лучше смотреть на F1 меру и precision с recall отдельно"
   ]
  },
  {
   "cell_type": "code",
   "execution_count": 12,
   "id": "a8b5a665",
   "metadata": {},
   "outputs": [
    {
     "data": {
      "text/plain": [
       "0.5741324921135647"
      ]
     },
     "execution_count": 12,
     "metadata": {},
     "output_type": "execute_result"
    }
   ],
   "source": [
    "f1_score(y_test, clf.best_estimator_.predict(X_test.drop('id', 1)))"
   ]
  },
  {
   "cell_type": "code",
   "execution_count": 13,
   "id": "757abefb",
   "metadata": {},
   "outputs": [
    {
     "data": {
      "text/plain": [
       "0.7576568539994053"
      ]
     },
     "execution_count": 13,
     "metadata": {},
     "output_type": "execute_result"
    }
   ],
   "source": [
    "precision_score(y_test, clf.best_estimator_.predict(X_test.drop('id', 1)))"
   ]
  },
  {
   "cell_type": "code",
   "execution_count": 14,
   "id": "410c4911",
   "metadata": {
    "scrolled": true
   },
   "outputs": [
    {
     "data": {
      "text/plain": [
       "0.4621803011064756"
      ]
     },
     "execution_count": 14,
     "metadata": {},
     "output_type": "execute_result"
    }
   ],
   "source": [
    "recall_score(y_test, clf.best_estimator_.predict(X_test.drop('id', 1)))"
   ]
  },
  {
   "cell_type": "code",
   "execution_count": 15,
   "id": "34878282",
   "metadata": {
    "scrolled": true
   },
   "outputs": [
    {
     "name": "stdout",
     "output_type": "stream",
     "text": [
      "              precision    recall  f1-score   support\n",
      "\n",
      "           0       0.92      1.00      0.96     41654\n",
      "           1       0.98      0.69      0.81     11103\n",
      "\n",
      "    accuracy                           0.93     52757\n",
      "   macro avg       0.95      0.84      0.88     52757\n",
      "weighted avg       0.94      0.93      0.93     52757\n",
      "\n"
     ]
    }
   ],
   "source": [
    "print(classification_report(y_train, clf.best_estimator_.predict(X_train)))"
   ]
  },
  {
   "cell_type": "code",
   "execution_count": 16,
   "id": "6ca6bd76",
   "metadata": {},
   "outputs": [
    {
     "name": "stdout",
     "output_type": "stream",
     "text": [
      "[[41505   149]\n",
      " [ 3440  7663]]\n"
     ]
    }
   ],
   "source": [
    "print(confusion_matrix(y_train, clf.best_estimator_.predict(X_train)))"
   ]
  },
  {
   "cell_type": "markdown",
   "id": "c26c6027",
   "metadata": {},
   "source": [
    "Получается, **recall** (0.46) гораздо ниже **precision** (0.76), однако именно он отвечает за способность модели правильно определить положительный класс. Тут нам поможет работа с отческой"
   ]
  },
  {
   "cell_type": "markdown",
   "id": "e3ff96fd",
   "metadata": {},
   "source": [
    "### Выбор оптимальной отсечки классификатора"
   ]
  },
  {
   "cell_type": "markdown",
   "id": "0fedc2bf",
   "metadata": {},
   "source": [
    "Возьмем вероятности 1 класса для каждого объекта с помощью метода ```.predict_proba```"
   ]
  },
  {
   "cell_type": "code",
   "execution_count": 17,
   "id": "1dd9a51f",
   "metadata": {},
   "outputs": [],
   "source": [
    "predict = clf.best_estimator_.predict_proba(X_train)[:, 1]"
   ]
  },
  {
   "cell_type": "code",
   "execution_count": 18,
   "id": "b4a78482",
   "metadata": {},
   "outputs": [
    {
     "data": {
      "text/plain": [
       "array([0.01839418, 0.1092682 , 0.1493935 , ..., 0.04588993, 0.09126177,\n",
       "       0.06165302])"
      ]
     },
     "execution_count": 18,
     "metadata": {},
     "output_type": "execute_result"
    }
   ],
   "source": [
    "predict"
   ]
  },
  {
   "cell_type": "markdown",
   "id": "5245c86a",
   "metadata": {},
   "source": [
    "Стандартная отческа у нас 0.5\n",
    "\n",
    "Мы рассмотрим все возможные отсечки от 0.01 до 0.99 и найдем, при каком значении **F1 мера** будет максимальной"
   ]
  },
  {
   "cell_type": "code",
   "execution_count": 19,
   "id": "b9cef7d0",
   "metadata": {},
   "outputs": [
    {
     "data": {
      "text/plain": [
       "array([False, False, False, ..., False, False, False])"
      ]
     },
     "execution_count": 19,
     "metadata": {},
     "output_type": "execute_result"
    }
   ],
   "source": [
    "predict > .5"
   ]
  },
  {
   "cell_type": "code",
   "execution_count": 20,
   "id": "dabea813",
   "metadata": {},
   "outputs": [
    {
     "name": "stdout",
     "output_type": "stream",
     "text": [
      "Wall time: 7.66 s\n"
     ]
    }
   ],
   "source": [
    "%%time\n",
    "predict = clf.best_estimator_.predict_proba(X_train)[:, 1]\n",
    "best_thres = 0.01\n",
    "max_f_score = 0\n",
    "for i in range(1, 100):\n",
    "    thres = i / 100\n",
    "    var = f1_score(y_train, list(map(int, predict >= thres)))\n",
    "    if var > max_f_score:\n",
    "        max_f_score = var\n",
    "        best_thres = thres"
   ]
  },
  {
   "cell_type": "code",
   "execution_count": 21,
   "id": "68d5ff7a",
   "metadata": {},
   "outputs": [
    {
     "data": {
      "text/plain": [
       "0.8616578615176025"
      ]
     },
     "execution_count": 21,
     "metadata": {},
     "output_type": "execute_result"
    }
   ],
   "source": [
    "max_f_score"
   ]
  },
  {
   "cell_type": "code",
   "execution_count": 22,
   "id": "a627f7f1",
   "metadata": {},
   "outputs": [
    {
     "data": {
      "text/plain": [
       "0.34"
      ]
     },
     "execution_count": 22,
     "metadata": {},
     "output_type": "execute_result"
    }
   ],
   "source": [
    "best_thres"
   ]
  },
  {
   "cell_type": "code",
   "execution_count": 23,
   "id": "10539839",
   "metadata": {
    "scrolled": false
   },
   "outputs": [
    {
     "data": {
      "text/plain": [
       "0.6309973294041809"
      ]
     },
     "execution_count": 23,
     "metadata": {},
     "output_type": "execute_result"
    }
   ],
   "source": [
    "f1_score(\n",
    "    y_test,\n",
    "    list(\n",
    "        map(int, clf.best_estimator_.predict_proba(X_test.drop(\"id\", 1))[:, 1] >= 0.35)))"
   ]
  },
  {
   "cell_type": "code",
   "execution_count": 24,
   "id": "18914dec",
   "metadata": {},
   "outputs": [
    {
     "data": {
      "text/plain": [
       "0.6408529741863075"
      ]
     },
     "execution_count": 24,
     "metadata": {},
     "output_type": "execute_result"
    }
   ],
   "source": [
    "precision_score(\n",
    "    y_test,\n",
    "    list(\n",
    "        map(int, clf.best_estimator_.predict_proba(X_test.drop(\"id\", 1))[:, 1] >= 0.35)))"
   ]
  },
  {
   "cell_type": "code",
   "execution_count": 25,
   "id": "e9870fac",
   "metadata": {},
   "outputs": [
    {
     "data": {
      "text/plain": [
       "0.6214402321784872"
      ]
     },
     "execution_count": 25,
     "metadata": {},
     "output_type": "execute_result"
    }
   ],
   "source": [
    "recall_score(\n",
    "    y_test,\n",
    "    list(\n",
    "        map(int, clf.best_estimator_.predict_proba(X_test.drop(\"id\", 1))[:, 1] >= 0.35)))"
   ]
  },
  {
   "cell_type": "markdown",
   "id": "2ec62608",
   "metadata": {},
   "source": [
    "Да, **precision** стал ниже, однако и **F1 мера**, и **recall** значительно повысили свои значения, а в данной задаче это важнее\n",
    "\n",
    "Такой результат получился при отсечке в **0.34**"
   ]
  },
  {
   "cell_type": "code",
   "execution_count": null,
   "id": "4a1fe8b2",
   "metadata": {},
   "outputs": [],
   "source": []
  }
 ],
 "metadata": {
  "kernelspec": {
   "display_name": "Python 3 (ipykernel)",
   "language": "python",
   "name": "python3"
  },
  "language_info": {
   "codemirror_mode": {
    "name": "ipython",
    "version": 3
   },
   "file_extension": ".py",
   "mimetype": "text/x-python",
   "name": "python",
   "nbconvert_exporter": "python",
   "pygments_lexer": "ipython3",
   "version": "3.9.13"
  }
 },
 "nbformat": 4,
 "nbformat_minor": 5
}
